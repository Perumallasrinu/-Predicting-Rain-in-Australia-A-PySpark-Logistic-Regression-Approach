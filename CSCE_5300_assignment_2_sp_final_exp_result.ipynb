{
  "nbformat": 4,
  "nbformat_minor": 0,
  "metadata": {
    "colab": {
      "provenance": []
    },
    "kernelspec": {
      "name": "python3",
      "display_name": "Python 3"
    },
    "language_info": {
      "name": "python"
    }
  },
  "cells": [
    {
      "cell_type": "code",
      "execution_count": 179,
      "metadata": {
        "id": "RY1hUtCihxM1"
      },
      "outputs": [],
      "source": [
        "!apt-get install openjdk-8-jdk-headless -qq > /dev/null\n",
        "!wget -q http://archive.apache.org/dist/spark/spark-3.1.1/spark-3.1.1-bin-hadoop3.2.tgz\n",
        "!tar xf spark-3.1.1-bin-hadoop3.2.tgz\n",
        "!pip install -q findspark"
      ]
    },
    {
      "cell_type": "code",
      "source": [
        "import os\n",
        "os.environ[\"JAVA_HOME\"] = \"/usr/lib/jvm/java-8-openjdk-amd64\"\n",
        "os.environ[\"SPARK_HOME\"] = \"/content/spark-3.1.1-bin-hadoop3.2\"\n",
        "\n",
        "!ls"
      ],
      "metadata": {
        "colab": {
          "base_uri": "https://localhost:8080/"
        },
        "id": "jyJTE_ckjea_",
        "outputId": "cee436b9-1e9e-4867-b21a-ece88a363429"
      },
      "execution_count": 180,
      "outputs": [
        {
          "output_type": "stream",
          "name": "stdout",
          "text": [
            "drive\t\t\t       spark-3.1.1-bin-hadoop3.2.tgz.1\tspark-3.1.1-bin-hadoop3.2.tgz.5\n",
            "sample_data\t\t       spark-3.1.1-bin-hadoop3.2.tgz.2\tweatherAUS.csv\n",
            "spark-3.1.1-bin-hadoop3.2      spark-3.1.1-bin-hadoop3.2.tgz.3\n",
            "spark-3.1.1-bin-hadoop3.2.tgz  spark-3.1.1-bin-hadoop3.2.tgz.4\n"
          ]
        }
      ]
    },
    {
      "cell_type": "code",
      "source": [
        "!pip install -q pyspark\n",
        "from google.colab import drive\n",
        "drive.mount('/content/drive')"
      ],
      "metadata": {
        "colab": {
          "base_uri": "https://localhost:8080/"
        },
        "id": "3ZRaa48fjizm",
        "outputId": "2904228c-2fa2-4b99-b125-593b29810d28"
      },
      "execution_count": 181,
      "outputs": [
        {
          "output_type": "stream",
          "name": "stdout",
          "text": [
            "Drive already mounted at /content/drive; to attempt to forcibly remount, call drive.mount(\"/content/drive\", force_remount=True).\n"
          ]
        }
      ]
    },
    {
      "cell_type": "code",
      "source": [
        "import findspark\n",
        "findspark.init()\n",
        "from pyspark.sql import SparkSession\n",
        "spark = SparkSession.builder.master(\"local[*]\").getOrCreate()\n",
        "spark.conf.set(\"spark.sql.repl.eagerEval.enabled\", True) # Property used to format output tables better\n",
        "spark"
      ],
      "metadata": {
        "id": "xEaNwFaLjys1",
        "colab": {
          "base_uri": "https://localhost:8080/",
          "height": 219
        },
        "outputId": "da763b73-3e1f-495c-83dc-2d96d353181c"
      },
      "execution_count": 182,
      "outputs": [
        {
          "output_type": "execute_result",
          "data": {
            "text/plain": [
              "<pyspark.sql.session.SparkSession at 0x7d491536c400>"
            ],
            "text/html": [
              "\n",
              "            <div>\n",
              "                <p><b>SparkSession - in-memory</b></p>\n",
              "                \n",
              "        <div>\n",
              "            <p><b>SparkContext</b></p>\n",
              "\n",
              "            <p><a href=\"http://a1af397de4f9:4040\">Spark UI</a></p>\n",
              "\n",
              "            <dl>\n",
              "              <dt>Version</dt>\n",
              "                <dd><code>v3.1.1</code></dd>\n",
              "              <dt>Master</dt>\n",
              "                <dd><code>local[*]</code></dd>\n",
              "              <dt>AppName</dt>\n",
              "                <dd><code>RainPrediction</code></dd>\n",
              "            </dl>\n",
              "        </div>\n",
              "        \n",
              "            </div>\n",
              "        "
            ]
          },
          "metadata": {},
          "execution_count": 182
        }
      ]
    },
    {
      "cell_type": "code",
      "source": [
        "# Import necessary libraries\n",
        "from pyspark.sql import SparkSession\n",
        "from pyspark.ml.feature import OneHotEncoder, StringIndexer\n",
        "from pyspark.ml import Pipeline\n",
        "from pyspark.ml.feature import VectorAssembler\n",
        "from pyspark.ml.classification import LogisticRegression\n",
        "from pyspark.ml.evaluation import BinaryClassificationEvaluator\n",
        "from pyspark.sql.functions import year, month, dayofmonth\n",
        "from pyspark.ml.feature import Imputer\n",
        "from pyspark.ml.feature import StandardScaler\n",
        "from pyspark.sql.functions import col\n",
        "from pyspark.sql.functions import isnan, when, count, col"
      ],
      "metadata": {
        "id": "pN2-vzy9lIuo"
      },
      "execution_count": 183,
      "outputs": []
    },
    {
      "cell_type": "code",
      "source": [
        "# Create a Spark session\n",
        "spark = SparkSession.builder.appName(\"RainPrediction\").getOrCreate()\n",
        "\n"
      ],
      "metadata": {
        "id": "HkgYlTTFlhc5"
      },
      "execution_count": 184,
      "outputs": []
    },
    {
      "cell_type": "code",
      "source": [
        "# Load the dataset\n",
        "df_weather = spark.read.csv(\"/content/drive/MyDrive/weatherAUS.csv\", header=True, inferSchema=True)"
      ],
      "metadata": {
        "id": "W8WlR1Ammw1n"
      },
      "execution_count": 185,
      "outputs": []
    },
    {
      "cell_type": "code",
      "source": [
        "df_weather\n"
      ],
      "metadata": {
        "id": "Vev_3ZhEqacx",
        "colab": {
          "base_uri": "https://localhost:8080/",
          "height": 881
        },
        "outputId": "8611bf1c-f189-4496-8aa6-d42639ef16be"
      },
      "execution_count": 186,
      "outputs": [
        {
          "output_type": "execute_result",
          "data": {
            "text/plain": [
              "+----------+--------+-------+-------+--------+-----------+--------+-----------+-------------+----------+----------+------------+------------+-----------+-----------+-----------+-----------+--------+--------+-------+-------+---------+-------+------------+\n",
              "|      Date|Location|MinTemp|MaxTemp|Rainfall|Evaporation|Sunshine|WindGustDir|WindGustSpeed|WindDir9am|WindDir3pm|WindSpeed9am|WindSpeed3pm|Humidity9am|Humidity3pm|Pressure9am|Pressure3pm|Cloud9am|Cloud3pm|Temp9am|Temp3pm|RainToday|RISK_MM|RainTomorrow|\n",
              "+----------+--------+-------+-------+--------+-----------+--------+-----------+-------------+----------+----------+------------+------------+-----------+-----------+-----------+-----------+--------+--------+-------+-------+---------+-------+------------+\n",
              "|2008-12-01|  Albury|   13.4|   22.9|     0.6|         NA|      NA|          W|           44|         W|       WNW|          20|          24|         71|         22|     1007.7|     1007.1|       8|      NA|   16.9|   21.8|       No|    0.0|          No|\n",
              "|2008-12-02|  Albury|    7.4|   25.1|       0|         NA|      NA|        WNW|           44|       NNW|       WSW|           4|          22|         44|         25|     1010.6|     1007.8|      NA|      NA|   17.2|   24.3|       No|    0.0|          No|\n",
              "|2008-12-03|  Albury|   12.9|   25.7|       0|         NA|      NA|        WSW|           46|         W|       WSW|          19|          26|         38|         30|     1007.6|     1008.7|      NA|       2|     21|   23.2|       No|    0.0|          No|\n",
              "|2008-12-04|  Albury|    9.2|     28|       0|         NA|      NA|         NE|           24|        SE|         E|          11|           9|         45|         16|     1017.6|     1012.8|      NA|      NA|   18.1|   26.5|       No|    1.0|          No|\n",
              "|2008-12-05|  Albury|   17.5|   32.3|       1|         NA|      NA|          W|           41|       ENE|        NW|           7|          20|         82|         33|     1010.8|       1006|       7|       8|   17.8|   29.7|       No|    0.2|          No|\n",
              "|2008-12-06|  Albury|   14.6|   29.7|     0.2|         NA|      NA|        WNW|           56|         W|         W|          19|          24|         55|         23|     1009.2|     1005.4|      NA|      NA|   20.6|   28.9|       No|    0.0|          No|\n",
              "|2008-12-07|  Albury|   14.3|     25|       0|         NA|      NA|          W|           50|        SW|         W|          20|          24|         49|         19|     1009.6|     1008.2|       1|      NA|   18.1|   24.6|       No|    0.0|          No|\n",
              "|2008-12-08|  Albury|    7.7|   26.7|       0|         NA|      NA|          W|           35|       SSE|         W|           6|          17|         48|         19|     1013.4|     1010.1|      NA|      NA|   16.3|   25.5|       No|    0.0|          No|\n",
              "|2008-12-09|  Albury|    9.7|   31.9|       0|         NA|      NA|        NNW|           80|        SE|        NW|           7|          28|         42|          9|     1008.9|     1003.6|      NA|      NA|   18.3|   30.2|       No|    1.4|         Yes|\n",
              "|2008-12-10|  Albury|   13.1|   30.1|     1.4|         NA|      NA|          W|           28|         S|       SSE|          15|          11|         58|         27|       1007|     1005.7|      NA|      NA|   20.1|   28.2|      Yes|    0.0|          No|\n",
              "|2008-12-11|  Albury|   13.4|   30.4|       0|         NA|      NA|          N|           30|       SSE|       ESE|          17|           6|         48|         22|     1011.8|     1008.7|      NA|      NA|   20.4|   28.8|       No|    2.2|         Yes|\n",
              "|2008-12-12|  Albury|   15.9|   21.7|     2.2|         NA|      NA|        NNE|           31|        NE|       ENE|          15|          13|         89|         91|     1010.5|     1004.2|       8|       8|   15.9|     17|      Yes|   15.6|         Yes|\n",
              "|2008-12-13|  Albury|   15.9|   18.6|    15.6|         NA|      NA|          W|           61|       NNW|       NNW|          28|          28|         76|         93|      994.3|        993|       8|       8|   17.4|   15.8|      Yes|    3.6|         Yes|\n",
              "|2008-12-14|  Albury|   12.6|     21|     3.6|         NA|      NA|         SW|           44|         W|       SSW|          24|          20|         65|         43|     1001.2|     1001.8|      NA|       7|   15.8|   19.8|      Yes|    0.0|          No|\n",
              "|2008-12-16|  Albury|    9.8|   27.7|      NA|         NA|      NA|        WNW|           50|        NA|       WNW|          NA|          22|         50|         28|     1013.4|     1010.3|       0|      NA|   17.3|   26.2|       NA|    0.0|          No|\n",
              "|2008-12-17|  Albury|   14.1|   20.9|       0|         NA|      NA|        ENE|           22|       SSW|         E|          11|           9|         69|         82|     1012.2|     1010.4|       8|       1|   17.2|   18.1|       No|   16.8|         Yes|\n",
              "|2008-12-18|  Albury|   13.5|   22.9|    16.8|         NA|      NA|          W|           63|         N|       WNW|           6|          20|         80|         65|     1005.8|     1002.2|       8|       1|     18|   21.5|      Yes|   10.6|         Yes|\n",
              "|2008-12-19|  Albury|   11.2|   22.5|    10.6|         NA|      NA|        SSE|           43|       WSW|        SW|          24|          17|         47|         32|     1009.4|     1009.7|      NA|       2|   15.5|     21|      Yes|    0.0|          No|\n",
              "|2008-12-20|  Albury|    9.8|   25.6|       0|         NA|      NA|        SSE|           26|        SE|       NNW|          17|           6|         45|         26|     1019.2|     1017.1|      NA|      NA|   15.8|   23.2|       No|    0.0|          No|\n",
              "|2008-12-21|  Albury|   11.5|   29.3|       0|         NA|      NA|          S|           24|        SE|        SE|           9|           9|         56|         28|     1019.3|     1014.8|      NA|      NA|   19.1|   27.3|       No|    0.0|          No|\n",
              "+----------+--------+-------+-------+--------+-----------+--------+-----------+-------------+----------+----------+------------+------------+-----------+-----------+-----------+-----------+--------+--------+-------+-------+---------+-------+------------+\n",
              "only showing top 20 rows"
            ],
            "text/html": [
              "<table border='1'>\n",
              "<tr><th>Date</th><th>Location</th><th>MinTemp</th><th>MaxTemp</th><th>Rainfall</th><th>Evaporation</th><th>Sunshine</th><th>WindGustDir</th><th>WindGustSpeed</th><th>WindDir9am</th><th>WindDir3pm</th><th>WindSpeed9am</th><th>WindSpeed3pm</th><th>Humidity9am</th><th>Humidity3pm</th><th>Pressure9am</th><th>Pressure3pm</th><th>Cloud9am</th><th>Cloud3pm</th><th>Temp9am</th><th>Temp3pm</th><th>RainToday</th><th>RISK_MM</th><th>RainTomorrow</th></tr>\n",
              "<tr><td>2008-12-01</td><td>Albury</td><td>13.4</td><td>22.9</td><td>0.6</td><td>NA</td><td>NA</td><td>W</td><td>44</td><td>W</td><td>WNW</td><td>20</td><td>24</td><td>71</td><td>22</td><td>1007.7</td><td>1007.1</td><td>8</td><td>NA</td><td>16.9</td><td>21.8</td><td>No</td><td>0.0</td><td>No</td></tr>\n",
              "<tr><td>2008-12-02</td><td>Albury</td><td>7.4</td><td>25.1</td><td>0</td><td>NA</td><td>NA</td><td>WNW</td><td>44</td><td>NNW</td><td>WSW</td><td>4</td><td>22</td><td>44</td><td>25</td><td>1010.6</td><td>1007.8</td><td>NA</td><td>NA</td><td>17.2</td><td>24.3</td><td>No</td><td>0.0</td><td>No</td></tr>\n",
              "<tr><td>2008-12-03</td><td>Albury</td><td>12.9</td><td>25.7</td><td>0</td><td>NA</td><td>NA</td><td>WSW</td><td>46</td><td>W</td><td>WSW</td><td>19</td><td>26</td><td>38</td><td>30</td><td>1007.6</td><td>1008.7</td><td>NA</td><td>2</td><td>21</td><td>23.2</td><td>No</td><td>0.0</td><td>No</td></tr>\n",
              "<tr><td>2008-12-04</td><td>Albury</td><td>9.2</td><td>28</td><td>0</td><td>NA</td><td>NA</td><td>NE</td><td>24</td><td>SE</td><td>E</td><td>11</td><td>9</td><td>45</td><td>16</td><td>1017.6</td><td>1012.8</td><td>NA</td><td>NA</td><td>18.1</td><td>26.5</td><td>No</td><td>1.0</td><td>No</td></tr>\n",
              "<tr><td>2008-12-05</td><td>Albury</td><td>17.5</td><td>32.3</td><td>1</td><td>NA</td><td>NA</td><td>W</td><td>41</td><td>ENE</td><td>NW</td><td>7</td><td>20</td><td>82</td><td>33</td><td>1010.8</td><td>1006</td><td>7</td><td>8</td><td>17.8</td><td>29.7</td><td>No</td><td>0.2</td><td>No</td></tr>\n",
              "<tr><td>2008-12-06</td><td>Albury</td><td>14.6</td><td>29.7</td><td>0.2</td><td>NA</td><td>NA</td><td>WNW</td><td>56</td><td>W</td><td>W</td><td>19</td><td>24</td><td>55</td><td>23</td><td>1009.2</td><td>1005.4</td><td>NA</td><td>NA</td><td>20.6</td><td>28.9</td><td>No</td><td>0.0</td><td>No</td></tr>\n",
              "<tr><td>2008-12-07</td><td>Albury</td><td>14.3</td><td>25</td><td>0</td><td>NA</td><td>NA</td><td>W</td><td>50</td><td>SW</td><td>W</td><td>20</td><td>24</td><td>49</td><td>19</td><td>1009.6</td><td>1008.2</td><td>1</td><td>NA</td><td>18.1</td><td>24.6</td><td>No</td><td>0.0</td><td>No</td></tr>\n",
              "<tr><td>2008-12-08</td><td>Albury</td><td>7.7</td><td>26.7</td><td>0</td><td>NA</td><td>NA</td><td>W</td><td>35</td><td>SSE</td><td>W</td><td>6</td><td>17</td><td>48</td><td>19</td><td>1013.4</td><td>1010.1</td><td>NA</td><td>NA</td><td>16.3</td><td>25.5</td><td>No</td><td>0.0</td><td>No</td></tr>\n",
              "<tr><td>2008-12-09</td><td>Albury</td><td>9.7</td><td>31.9</td><td>0</td><td>NA</td><td>NA</td><td>NNW</td><td>80</td><td>SE</td><td>NW</td><td>7</td><td>28</td><td>42</td><td>9</td><td>1008.9</td><td>1003.6</td><td>NA</td><td>NA</td><td>18.3</td><td>30.2</td><td>No</td><td>1.4</td><td>Yes</td></tr>\n",
              "<tr><td>2008-12-10</td><td>Albury</td><td>13.1</td><td>30.1</td><td>1.4</td><td>NA</td><td>NA</td><td>W</td><td>28</td><td>S</td><td>SSE</td><td>15</td><td>11</td><td>58</td><td>27</td><td>1007</td><td>1005.7</td><td>NA</td><td>NA</td><td>20.1</td><td>28.2</td><td>Yes</td><td>0.0</td><td>No</td></tr>\n",
              "<tr><td>2008-12-11</td><td>Albury</td><td>13.4</td><td>30.4</td><td>0</td><td>NA</td><td>NA</td><td>N</td><td>30</td><td>SSE</td><td>ESE</td><td>17</td><td>6</td><td>48</td><td>22</td><td>1011.8</td><td>1008.7</td><td>NA</td><td>NA</td><td>20.4</td><td>28.8</td><td>No</td><td>2.2</td><td>Yes</td></tr>\n",
              "<tr><td>2008-12-12</td><td>Albury</td><td>15.9</td><td>21.7</td><td>2.2</td><td>NA</td><td>NA</td><td>NNE</td><td>31</td><td>NE</td><td>ENE</td><td>15</td><td>13</td><td>89</td><td>91</td><td>1010.5</td><td>1004.2</td><td>8</td><td>8</td><td>15.9</td><td>17</td><td>Yes</td><td>15.6</td><td>Yes</td></tr>\n",
              "<tr><td>2008-12-13</td><td>Albury</td><td>15.9</td><td>18.6</td><td>15.6</td><td>NA</td><td>NA</td><td>W</td><td>61</td><td>NNW</td><td>NNW</td><td>28</td><td>28</td><td>76</td><td>93</td><td>994.3</td><td>993</td><td>8</td><td>8</td><td>17.4</td><td>15.8</td><td>Yes</td><td>3.6</td><td>Yes</td></tr>\n",
              "<tr><td>2008-12-14</td><td>Albury</td><td>12.6</td><td>21</td><td>3.6</td><td>NA</td><td>NA</td><td>SW</td><td>44</td><td>W</td><td>SSW</td><td>24</td><td>20</td><td>65</td><td>43</td><td>1001.2</td><td>1001.8</td><td>NA</td><td>7</td><td>15.8</td><td>19.8</td><td>Yes</td><td>0.0</td><td>No</td></tr>\n",
              "<tr><td>2008-12-16</td><td>Albury</td><td>9.8</td><td>27.7</td><td>NA</td><td>NA</td><td>NA</td><td>WNW</td><td>50</td><td>NA</td><td>WNW</td><td>NA</td><td>22</td><td>50</td><td>28</td><td>1013.4</td><td>1010.3</td><td>0</td><td>NA</td><td>17.3</td><td>26.2</td><td>NA</td><td>0.0</td><td>No</td></tr>\n",
              "<tr><td>2008-12-17</td><td>Albury</td><td>14.1</td><td>20.9</td><td>0</td><td>NA</td><td>NA</td><td>ENE</td><td>22</td><td>SSW</td><td>E</td><td>11</td><td>9</td><td>69</td><td>82</td><td>1012.2</td><td>1010.4</td><td>8</td><td>1</td><td>17.2</td><td>18.1</td><td>No</td><td>16.8</td><td>Yes</td></tr>\n",
              "<tr><td>2008-12-18</td><td>Albury</td><td>13.5</td><td>22.9</td><td>16.8</td><td>NA</td><td>NA</td><td>W</td><td>63</td><td>N</td><td>WNW</td><td>6</td><td>20</td><td>80</td><td>65</td><td>1005.8</td><td>1002.2</td><td>8</td><td>1</td><td>18</td><td>21.5</td><td>Yes</td><td>10.6</td><td>Yes</td></tr>\n",
              "<tr><td>2008-12-19</td><td>Albury</td><td>11.2</td><td>22.5</td><td>10.6</td><td>NA</td><td>NA</td><td>SSE</td><td>43</td><td>WSW</td><td>SW</td><td>24</td><td>17</td><td>47</td><td>32</td><td>1009.4</td><td>1009.7</td><td>NA</td><td>2</td><td>15.5</td><td>21</td><td>Yes</td><td>0.0</td><td>No</td></tr>\n",
              "<tr><td>2008-12-20</td><td>Albury</td><td>9.8</td><td>25.6</td><td>0</td><td>NA</td><td>NA</td><td>SSE</td><td>26</td><td>SE</td><td>NNW</td><td>17</td><td>6</td><td>45</td><td>26</td><td>1019.2</td><td>1017.1</td><td>NA</td><td>NA</td><td>15.8</td><td>23.2</td><td>No</td><td>0.0</td><td>No</td></tr>\n",
              "<tr><td>2008-12-21</td><td>Albury</td><td>11.5</td><td>29.3</td><td>0</td><td>NA</td><td>NA</td><td>S</td><td>24</td><td>SE</td><td>SE</td><td>9</td><td>9</td><td>56</td><td>28</td><td>1019.3</td><td>1014.8</td><td>NA</td><td>NA</td><td>19.1</td><td>27.3</td><td>No</td><td>0.0</td><td>No</td></tr>\n",
              "</table>\n",
              "only showing top 20 rows\n"
            ]
          },
          "metadata": {},
          "execution_count": 186
        }
      ]
    },
    {
      "cell_type": "code",
      "source": [
        "# Display the schema of the DataFrame\n",
        "df_weather.printSchema()\n"
      ],
      "metadata": {
        "id": "dkJPD7SZ8Pvf",
        "colab": {
          "base_uri": "https://localhost:8080/"
        },
        "outputId": "883e1eb7-e825-4193-d2ce-a9dbb38a1261"
      },
      "execution_count": 187,
      "outputs": [
        {
          "output_type": "stream",
          "name": "stdout",
          "text": [
            "root\n",
            " |-- Date: string (nullable = true)\n",
            " |-- Location: string (nullable = true)\n",
            " |-- MinTemp: string (nullable = true)\n",
            " |-- MaxTemp: string (nullable = true)\n",
            " |-- Rainfall: string (nullable = true)\n",
            " |-- Evaporation: string (nullable = true)\n",
            " |-- Sunshine: string (nullable = true)\n",
            " |-- WindGustDir: string (nullable = true)\n",
            " |-- WindGustSpeed: string (nullable = true)\n",
            " |-- WindDir9am: string (nullable = true)\n",
            " |-- WindDir3pm: string (nullable = true)\n",
            " |-- WindSpeed9am: string (nullable = true)\n",
            " |-- WindSpeed3pm: string (nullable = true)\n",
            " |-- Humidity9am: string (nullable = true)\n",
            " |-- Humidity3pm: string (nullable = true)\n",
            " |-- Pressure9am: string (nullable = true)\n",
            " |-- Pressure3pm: string (nullable = true)\n",
            " |-- Cloud9am: string (nullable = true)\n",
            " |-- Cloud3pm: string (nullable = true)\n",
            " |-- Temp9am: string (nullable = true)\n",
            " |-- Temp3pm: string (nullable = true)\n",
            " |-- RainToday: string (nullable = true)\n",
            " |-- RISK_MM: double (nullable = true)\n",
            " |-- RainTomorrow: string (nullable = true)\n",
            "\n"
          ]
        }
      ]
    },
    {
      "cell_type": "code",
      "source": [
        "# 1.Explore the dataset to find what are the categorical variables in the dataset. List categorical variable names\n",
        "\n",
        "# Identify list of columns based on data types\n",
        "list_of_columns = [col_name for col_name, data_type in df_weather.dtypes if data_type == 'string']\n",
        "\n",
        "# Display the list of categorical variable names\n",
        "print(\"list of columns:\", list_of_columns )"
      ],
      "metadata": {
        "id": "4sUnSIG1rwIB",
        "colab": {
          "base_uri": "https://localhost:8080/"
        },
        "outputId": "a414a137-a1c4-45b4-ddeb-38abcb070e0a"
      },
      "execution_count": 188,
      "outputs": [
        {
          "output_type": "stream",
          "name": "stdout",
          "text": [
            "list of columns: ['Date', 'Location', 'MinTemp', 'MaxTemp', 'Rainfall', 'Evaporation', 'Sunshine', 'WindGustDir', 'WindGustSpeed', 'WindDir9am', 'WindDir3pm', 'WindSpeed9am', 'WindSpeed3pm', 'Humidity9am', 'Humidity3pm', 'Pressure9am', 'Pressure3pm', 'Cloud9am', 'Cloud3pm', 'Temp9am', 'Temp3pm', 'RainToday', 'RainTomorrow']\n"
          ]
        }
      ]
    },
    {
      "cell_type": "code",
      "source": [
        "from pyspark.sql.types import FloatType\n",
        "# Columns to convert to numeric types\n",
        "continuous_variables = ['MinTemp', 'MaxTemp', 'Rainfall', 'Evaporation', 'Sunshine', 'WindGustSpeed', 'WindSpeed9am', 'WindSpeed3pm',\n",
        "                   'Humidity9am', 'Humidity3pm', 'Pressure9am', 'Pressure3pm', 'Cloud9am', 'Cloud3pm', 'Temp9am', 'Temp3pm', 'RISK_MM']\n",
        "\n",
        "# Convert numeric columns to FloatType\n",
        "for col in continuous_variables:\n",
        "    df_weather = df_weather.withColumn(col, df_weather[col].cast(FloatType()))\n",
        "\n",
        "# Get the names of all columns in the DataFrame\n",
        "all_columns = df_weather.columns\n",
        "\n",
        "# Get the names of string columns (columns not in numeric_columns)\n",
        "categorical_variables= [col for col in all_columns if col not in continuous_variables]\n",
        "\n",
        "# Display the updated schema\n",
        "df_weather.printSchema()\n",
        "\n",
        "# Display the list of numeric and string columns\n",
        "print(\"continuous_variables:\", continuous_variables)\n",
        "print(\" categorical_variables:\", categorical_variables)\n",
        "\n"
      ],
      "metadata": {
        "colab": {
          "base_uri": "https://localhost:8080/"
        },
        "id": "cI_tfW8_vr4g",
        "outputId": "0da87be1-9d62-4ace-93f9-f71b59343ae2"
      },
      "execution_count": 189,
      "outputs": [
        {
          "output_type": "stream",
          "name": "stdout",
          "text": [
            "root\n",
            " |-- Date: string (nullable = true)\n",
            " |-- Location: string (nullable = true)\n",
            " |-- MinTemp: float (nullable = true)\n",
            " |-- MaxTemp: float (nullable = true)\n",
            " |-- Rainfall: float (nullable = true)\n",
            " |-- Evaporation: float (nullable = true)\n",
            " |-- Sunshine: float (nullable = true)\n",
            " |-- WindGustDir: string (nullable = true)\n",
            " |-- WindGustSpeed: float (nullable = true)\n",
            " |-- WindDir9am: string (nullable = true)\n",
            " |-- WindDir3pm: string (nullable = true)\n",
            " |-- WindSpeed9am: float (nullable = true)\n",
            " |-- WindSpeed3pm: float (nullable = true)\n",
            " |-- Humidity9am: float (nullable = true)\n",
            " |-- Humidity3pm: float (nullable = true)\n",
            " |-- Pressure9am: float (nullable = true)\n",
            " |-- Pressure3pm: float (nullable = true)\n",
            " |-- Cloud9am: float (nullable = true)\n",
            " |-- Cloud3pm: float (nullable = true)\n",
            " |-- Temp9am: float (nullable = true)\n",
            " |-- Temp3pm: float (nullable = true)\n",
            " |-- RainToday: string (nullable = true)\n",
            " |-- RISK_MM: float (nullable = true)\n",
            " |-- RainTomorrow: string (nullable = true)\n",
            "\n",
            "continuous_variables: ['MinTemp', 'MaxTemp', 'Rainfall', 'Evaporation', 'Sunshine', 'WindGustSpeed', 'WindSpeed9am', 'WindSpeed3pm', 'Humidity9am', 'Humidity3pm', 'Pressure9am', 'Pressure3pm', 'Cloud9am', 'Cloud3pm', 'Temp9am', 'Temp3pm', 'RISK_MM']\n",
            " categorical_variables: ['Date', 'Location', 'WindGustDir', 'WindDir9am', 'WindDir3pm', 'RainToday', 'RainTomorrow']\n"
          ]
        }
      ]
    },
    {
      "cell_type": "code",
      "source": [
        "# 2. Explore how many categorical variables have null values.\n",
        "\n",
        "from pyspark.sql.functions import count, when, col\n",
        "df_weather_na = df_weather.replace('NA', None)\n",
        "null_counts = df_weather_na.select([count(when(col(c).isNull(), c)).alias(c) for c in categorical_variables])\n",
        "columns_with_na = [col_name for col_name in categorical_variables if null_counts.select(col_name).head()[col_name] > 0]\n",
        "num_categorical_na = len(columns_with_na)\n",
        "print(\"Number of Categorical Variables with 'NA' Values:\", num_categorical_na)"
      ],
      "metadata": {
        "colab": {
          "base_uri": "https://localhost:8080/"
        },
        "id": "Y7p41hHx1_EY",
        "outputId": "9a7e51af-bc1a-4c35-b3fb-b201d842c1fb"
      },
      "execution_count": 190,
      "outputs": [
        {
          "output_type": "stream",
          "name": "stdout",
          "text": [
            "Number of Categorical Variables with 'NA' Values: 4\n"
          ]
        }
      ]
    },
    {
      "cell_type": "code",
      "source": [
        "# 3. Get the frequency count of each categorical variable. For instance, how many discrete values in each categorical variable and how many datapoints from each distinct value\n",
        "\n",
        "from pyspark.sql.functions import col, countDistinct\n",
        " # Loop through each categorical variable to get frequency counts\n",
        "for col_name in categorical_variables:\n",
        "    print(f\"Frequency count for '{col_name}':\")\n",
        "    df_weather.groupBy(col_name).count().show()\n",
        "\n",
        "    print(f\"Number of discrete values for '{col_name}':\")\n",
        "    distinct_count =df_weather.select(countDistinct(col_name)).collect()[0][0]\n",
        "    print(distinct_count)"
      ],
      "metadata": {
        "colab": {
          "base_uri": "https://localhost:8080/"
        },
        "id": "WRmxpNgM5Aa_",
        "outputId": "379f5af1-bbfc-4c38-e916-910836751e7e"
      },
      "execution_count": 191,
      "outputs": [
        {
          "output_type": "stream",
          "name": "stdout",
          "text": [
            "Frequency count for 'Date':\n",
            "+----------+-----+\n",
            "|      Date|count|\n",
            "+----------+-----+\n",
            "|2008-12-03|   23|\n",
            "|2009-01-04|   45|\n",
            "|2009-06-23|   46|\n",
            "|2009-12-04|   46|\n",
            "|2010-02-12|   44|\n",
            "|2010-09-24|   46|\n",
            "|2011-01-29|   44|\n",
            "|2013-03-14|   49|\n",
            "|2014-02-16|   48|\n",
            "|2014-02-22|   48|\n",
            "|2014-05-27|   49|\n",
            "|2014-12-13|   47|\n",
            "|2015-05-01|   46|\n",
            "|2016-08-17|   49|\n",
            "|2017-05-14|   49|\n",
            "|2008-04-20|    2|\n",
            "|2008-10-26|    8|\n",
            "|2008-11-19|    8|\n",
            "|2010-03-06|   45|\n",
            "|2012-03-04|   46|\n",
            "+----------+-----+\n",
            "only showing top 20 rows\n",
            "\n",
            "Number of discrete values for 'Date':\n",
            "3436\n",
            "Frequency count for 'Location':\n",
            "+-------------+-----+\n",
            "|     Location|count|\n",
            "+-------------+-----+\n",
            "|       Cairns| 2988|\n",
            "|NorfolkIsland| 2964|\n",
            "|      Bendigo| 3034|\n",
            "|      Walpole| 2819|\n",
            "|     Canberra| 3418|\n",
            "|      Woomera| 2990|\n",
            "|     Adelaide| 3090|\n",
            "|        Cobar| 2988|\n",
            "|SydneyAirport| 3005|\n",
            "| PerthAirport| 3009|\n",
            "|   Wollongong| 2983|\n",
            "|  Williamtown| 2553|\n",
            "|        Moree| 2854|\n",
            "|      Mildura| 3007|\n",
            "|     Portland| 2996|\n",
            "|       Albany| 3016|\n",
            "|   SalmonGums| 2955|\n",
            "|     Brisbane| 3161|\n",
            "|       Sydney| 3337|\n",
            "|        Perth| 3193|\n",
            "+-------------+-----+\n",
            "only showing top 20 rows\n",
            "\n",
            "Number of discrete values for 'Location':\n",
            "49\n",
            "Frequency count for 'WindGustDir':\n",
            "+-----------+-----+\n",
            "|WindGustDir|count|\n",
            "+-----------+-----+\n",
            "|        SSE| 8993|\n",
            "|         SW| 8797|\n",
            "|         NW| 8003|\n",
            "|         NA| 9330|\n",
            "|          E| 9071|\n",
            "|        WSW| 8901|\n",
            "|        ENE| 7992|\n",
            "|         NE| 7060|\n",
            "|        NNW| 6561|\n",
            "|          N| 9033|\n",
            "|        SSW| 8610|\n",
            "|          W| 9780|\n",
            "|          S| 8949|\n",
            "|         SE| 9309|\n",
            "|        WNW| 8066|\n",
            "|        NNE| 6433|\n",
            "|        ESE| 7305|\n",
            "+-----------+-----+\n",
            "\n",
            "Number of discrete values for 'WindGustDir':\n",
            "17\n",
            "Frequency count for 'WindDir9am':\n",
            "+----------+-----+\n",
            "|WindDir9am|count|\n",
            "+----------+-----+\n",
            "|       SSE| 8966|\n",
            "|        SW| 8237|\n",
            "|        NW| 8552|\n",
            "|        NA|10013|\n",
            "|         E| 9024|\n",
            "|       WSW| 6843|\n",
            "|       ENE| 7735|\n",
            "|        NE| 7527|\n",
            "|       NNW| 7840|\n",
            "|         N|11393|\n",
            "|       SSW| 7448|\n",
            "|         W| 8260|\n",
            "|         S| 8493|\n",
            "|        SE| 9162|\n",
            "|       WNW| 7194|\n",
            "|       NNE| 7948|\n",
            "|       ESE| 7558|\n",
            "+----------+-----+\n",
            "\n",
            "Number of discrete values for 'WindDir9am':\n",
            "17\n",
            "Frequency count for 'WindDir3pm':\n",
            "+----------+-----+\n",
            "|WindDir3pm|count|\n",
            "+----------+-----+\n",
            "|       SSE| 9142|\n",
            "|        NW| 8468|\n",
            "|        SW| 9182|\n",
            "|        NA| 3778|\n",
            "|         E| 8342|\n",
            "|       WSW| 9329|\n",
            "|       ENE| 7724|\n",
            "|        NE| 8164|\n",
            "|       NNW| 7733|\n",
            "|         N| 8667|\n",
            "|       SSW| 8010|\n",
            "|         W| 9911|\n",
            "|         S| 9598|\n",
            "|        SE|10663|\n",
            "|       WNW| 8656|\n",
            "|       NNE| 6444|\n",
            "|       ESE| 8382|\n",
            "+----------+-----+\n",
            "\n",
            "Number of discrete values for 'WindDir3pm':\n",
            "17\n",
            "Frequency count for 'RainToday':\n",
            "+---------+------+\n",
            "|RainToday| count|\n",
            "+---------+------+\n",
            "|       NA|  1406|\n",
            "|       No|109332|\n",
            "|      Yes| 31455|\n",
            "+---------+------+\n",
            "\n",
            "Number of discrete values for 'RainToday':\n",
            "3\n",
            "Frequency count for 'RainTomorrow':\n",
            "+------------+------+\n",
            "|RainTomorrow| count|\n",
            "+------------+------+\n",
            "|          No|110316|\n",
            "|         Yes| 31877|\n",
            "+------------+------+\n",
            "\n",
            "Number of discrete values for 'RainTomorrow':\n",
            "2\n"
          ]
        }
      ]
    },
    {
      "cell_type": "code",
      "source": [
        "# 4. Print the first five rows of the dataset.\n",
        "# Load the dataset\n",
        "df_weather = spark.read.csv(\"/content/drive/MyDrive/weatherAUS.csv\", header=True, inferSchema=True)\n",
        "\n",
        "# Display the first five rows of the DataFrame\n",
        "df_weather.show(5)"
      ],
      "metadata": {
        "colab": {
          "base_uri": "https://localhost:8080/"
        },
        "id": "z7NHf4gL56_8",
        "outputId": "254e60ac-e543-4294-dab0-c47b8db6b4ce"
      },
      "execution_count": 194,
      "outputs": [
        {
          "output_type": "stream",
          "name": "stdout",
          "text": [
            "+----------+--------+-------+-------+--------+-----------+--------+-----------+-------------+----------+----------+------------+------------+-----------+-----------+-----------+-----------+--------+--------+-------+-------+---------+-------+------------+\n",
            "|      Date|Location|MinTemp|MaxTemp|Rainfall|Evaporation|Sunshine|WindGustDir|WindGustSpeed|WindDir9am|WindDir3pm|WindSpeed9am|WindSpeed3pm|Humidity9am|Humidity3pm|Pressure9am|Pressure3pm|Cloud9am|Cloud3pm|Temp9am|Temp3pm|RainToday|RISK_MM|RainTomorrow|\n",
            "+----------+--------+-------+-------+--------+-----------+--------+-----------+-------------+----------+----------+------------+------------+-----------+-----------+-----------+-----------+--------+--------+-------+-------+---------+-------+------------+\n",
            "|2008-12-01|  Albury|   13.4|   22.9|     0.6|         NA|      NA|          W|           44|         W|       WNW|          20|          24|         71|         22|     1007.7|     1007.1|       8|      NA|   16.9|   21.8|       No|    0.0|          No|\n",
            "|2008-12-02|  Albury|    7.4|   25.1|       0|         NA|      NA|        WNW|           44|       NNW|       WSW|           4|          22|         44|         25|     1010.6|     1007.8|      NA|      NA|   17.2|   24.3|       No|    0.0|          No|\n",
            "|2008-12-03|  Albury|   12.9|   25.7|       0|         NA|      NA|        WSW|           46|         W|       WSW|          19|          26|         38|         30|     1007.6|     1008.7|      NA|       2|     21|   23.2|       No|    0.0|          No|\n",
            "|2008-12-04|  Albury|    9.2|     28|       0|         NA|      NA|         NE|           24|        SE|         E|          11|           9|         45|         16|     1017.6|     1012.8|      NA|      NA|   18.1|   26.5|       No|    1.0|          No|\n",
            "|2008-12-05|  Albury|   17.5|   32.3|       1|         NA|      NA|          W|           41|       ENE|        NW|           7|          20|         82|         33|     1010.8|       1006|       7|       8|   17.8|   29.7|       No|    0.2|          No|\n",
            "+----------+--------+-------+-------+--------+-----------+--------+-----------+-------------+----------+----------+------------+------------+-----------+-----------+-----------+-----------+--------+--------+-------+-------+---------+-------+------------+\n",
            "only showing top 5 rows\n",
            "\n"
          ]
        }
      ]
    },
    {
      "cell_type": "code",
      "source": [
        "# 5. What are the available columns of the dataset?\n",
        "\n",
        "# Display available columns\n",
        "print(\"Available columns:\", df_weather.columns)"
      ],
      "metadata": {
        "colab": {
          "base_uri": "https://localhost:8080/"
        },
        "id": "BU4iypKq7Gq_",
        "outputId": "16fa7628-e36f-4db8-ba0b-61fd58b4d3a0"
      },
      "execution_count": 195,
      "outputs": [
        {
          "output_type": "stream",
          "name": "stdout",
          "text": [
            "Available columns: ['Date', 'Location', 'MinTemp', 'MaxTemp', 'Rainfall', 'Evaporation', 'Sunshine', 'WindGustDir', 'WindGustSpeed', 'WindDir9am', 'WindDir3pm', 'WindSpeed9am', 'WindSpeed3pm', 'Humidity9am', 'Humidity3pm', 'Pressure9am', 'Pressure3pm', 'Cloud9am', 'Cloud3pm', 'Temp9am', 'Temp3pm', 'RainToday', 'RISK_MM', 'RainTomorrow']\n"
          ]
        }
      ]
    },
    {
      "cell_type": "code",
      "source": [
        "6# Drop the 'RISK_MM' variable column\n",
        "df_weather = df_weather.drop(\"RISK_MM\")\n",
        "df_weather.show()"
      ],
      "metadata": {
        "colab": {
          "base_uri": "https://localhost:8080/"
        },
        "id": "Eo-rixdW7RN6",
        "outputId": "8ea5dc50-7e41-4d76-d4d4-714edbc7bf3e"
      },
      "execution_count": 196,
      "outputs": [
        {
          "output_type": "stream",
          "name": "stdout",
          "text": [
            "+----------+--------+-------+-------+--------+-----------+--------+-----------+-------------+----------+----------+------------+------------+-----------+-----------+-----------+-----------+--------+--------+-------+-------+---------+------------+\n",
            "|      Date|Location|MinTemp|MaxTemp|Rainfall|Evaporation|Sunshine|WindGustDir|WindGustSpeed|WindDir9am|WindDir3pm|WindSpeed9am|WindSpeed3pm|Humidity9am|Humidity3pm|Pressure9am|Pressure3pm|Cloud9am|Cloud3pm|Temp9am|Temp3pm|RainToday|RainTomorrow|\n",
            "+----------+--------+-------+-------+--------+-----------+--------+-----------+-------------+----------+----------+------------+------------+-----------+-----------+-----------+-----------+--------+--------+-------+-------+---------+------------+\n",
            "|2008-12-01|  Albury|   13.4|   22.9|     0.6|         NA|      NA|          W|           44|         W|       WNW|          20|          24|         71|         22|     1007.7|     1007.1|       8|      NA|   16.9|   21.8|       No|          No|\n",
            "|2008-12-02|  Albury|    7.4|   25.1|       0|         NA|      NA|        WNW|           44|       NNW|       WSW|           4|          22|         44|         25|     1010.6|     1007.8|      NA|      NA|   17.2|   24.3|       No|          No|\n",
            "|2008-12-03|  Albury|   12.9|   25.7|       0|         NA|      NA|        WSW|           46|         W|       WSW|          19|          26|         38|         30|     1007.6|     1008.7|      NA|       2|     21|   23.2|       No|          No|\n",
            "|2008-12-04|  Albury|    9.2|     28|       0|         NA|      NA|         NE|           24|        SE|         E|          11|           9|         45|         16|     1017.6|     1012.8|      NA|      NA|   18.1|   26.5|       No|          No|\n",
            "|2008-12-05|  Albury|   17.5|   32.3|       1|         NA|      NA|          W|           41|       ENE|        NW|           7|          20|         82|         33|     1010.8|       1006|       7|       8|   17.8|   29.7|       No|          No|\n",
            "|2008-12-06|  Albury|   14.6|   29.7|     0.2|         NA|      NA|        WNW|           56|         W|         W|          19|          24|         55|         23|     1009.2|     1005.4|      NA|      NA|   20.6|   28.9|       No|          No|\n",
            "|2008-12-07|  Albury|   14.3|     25|       0|         NA|      NA|          W|           50|        SW|         W|          20|          24|         49|         19|     1009.6|     1008.2|       1|      NA|   18.1|   24.6|       No|          No|\n",
            "|2008-12-08|  Albury|    7.7|   26.7|       0|         NA|      NA|          W|           35|       SSE|         W|           6|          17|         48|         19|     1013.4|     1010.1|      NA|      NA|   16.3|   25.5|       No|          No|\n",
            "|2008-12-09|  Albury|    9.7|   31.9|       0|         NA|      NA|        NNW|           80|        SE|        NW|           7|          28|         42|          9|     1008.9|     1003.6|      NA|      NA|   18.3|   30.2|       No|         Yes|\n",
            "|2008-12-10|  Albury|   13.1|   30.1|     1.4|         NA|      NA|          W|           28|         S|       SSE|          15|          11|         58|         27|       1007|     1005.7|      NA|      NA|   20.1|   28.2|      Yes|          No|\n",
            "|2008-12-11|  Albury|   13.4|   30.4|       0|         NA|      NA|          N|           30|       SSE|       ESE|          17|           6|         48|         22|     1011.8|     1008.7|      NA|      NA|   20.4|   28.8|       No|         Yes|\n",
            "|2008-12-12|  Albury|   15.9|   21.7|     2.2|         NA|      NA|        NNE|           31|        NE|       ENE|          15|          13|         89|         91|     1010.5|     1004.2|       8|       8|   15.9|     17|      Yes|         Yes|\n",
            "|2008-12-13|  Albury|   15.9|   18.6|    15.6|         NA|      NA|          W|           61|       NNW|       NNW|          28|          28|         76|         93|      994.3|        993|       8|       8|   17.4|   15.8|      Yes|         Yes|\n",
            "|2008-12-14|  Albury|   12.6|     21|     3.6|         NA|      NA|         SW|           44|         W|       SSW|          24|          20|         65|         43|     1001.2|     1001.8|      NA|       7|   15.8|   19.8|      Yes|          No|\n",
            "|2008-12-16|  Albury|    9.8|   27.7|      NA|         NA|      NA|        WNW|           50|        NA|       WNW|          NA|          22|         50|         28|     1013.4|     1010.3|       0|      NA|   17.3|   26.2|       NA|          No|\n",
            "|2008-12-17|  Albury|   14.1|   20.9|       0|         NA|      NA|        ENE|           22|       SSW|         E|          11|           9|         69|         82|     1012.2|     1010.4|       8|       1|   17.2|   18.1|       No|         Yes|\n",
            "|2008-12-18|  Albury|   13.5|   22.9|    16.8|         NA|      NA|          W|           63|         N|       WNW|           6|          20|         80|         65|     1005.8|     1002.2|       8|       1|     18|   21.5|      Yes|         Yes|\n",
            "|2008-12-19|  Albury|   11.2|   22.5|    10.6|         NA|      NA|        SSE|           43|       WSW|        SW|          24|          17|         47|         32|     1009.4|     1009.7|      NA|       2|   15.5|     21|      Yes|          No|\n",
            "|2008-12-20|  Albury|    9.8|   25.6|       0|         NA|      NA|        SSE|           26|        SE|       NNW|          17|           6|         45|         26|     1019.2|     1017.1|      NA|      NA|   15.8|   23.2|       No|          No|\n",
            "|2008-12-21|  Albury|   11.5|   29.3|       0|         NA|      NA|          S|           24|        SE|        SE|           9|           9|         56|         28|     1019.3|     1014.8|      NA|      NA|   19.1|   27.3|       No|          No|\n",
            "+----------+--------+-------+-------+--------+-----------+--------+-----------+-------------+----------+----------+------------+------------+-----------+-----------+-----------+-----------+--------+--------+-------+-------+---------+------------+\n",
            "only showing top 20 rows\n",
            "\n"
          ]
        }
      ]
    },
    {
      "cell_type": "code",
      "source": [
        "7# Display summary of the dataset\n",
        "df_weather_na.describe().show()"
      ],
      "metadata": {
        "colab": {
          "base_uri": "https://localhost:8080/"
        },
        "id": "HVvYF02O7qpi",
        "outputId": "937fe757-e3c2-466c-d8e5-0d5acbbbb5b3"
      },
      "execution_count": 197,
      "outputs": [
        {
          "output_type": "stream",
          "name": "stdout",
          "text": [
            "+-------+----------+--------+------------------+------------------+-----------------+-----------------+------------------+-----------+------------------+----------+----------+-----------------+-----------------+------------------+------------------+------------------+------------------+------------------+-----------------+-----------------+------------------+---------+------------------+------------+\n",
            "|summary|      Date|Location|           MinTemp|           MaxTemp|         Rainfall|      Evaporation|          Sunshine|WindGustDir|     WindGustSpeed|WindDir9am|WindDir3pm|     WindSpeed9am|     WindSpeed3pm|       Humidity9am|       Humidity3pm|       Pressure9am|       Pressure3pm|          Cloud9am|         Cloud3pm|          Temp9am|           Temp3pm|RainToday|           RISK_MM|RainTomorrow|\n",
            "+-------+----------+--------+------------------+------------------+-----------------+-----------------+------------------+-----------+------------------+----------+----------+-----------------+-----------------+------------------+------------------+------------------+------------------+------------------+-----------------+-----------------+------------------+---------+------------------+------------+\n",
            "|  count|    142193|  142193|            141556|            141871|           140787|            81350|             74377|     132863|            132923|    132180|    138415|           140845|           139563|            140419|            138583|            128179|            128212|             88536|            85099|           141289|            139467|   140787|            142193|      142193|\n",
            "|   mean|      null|    null|12.186399729847201|23.226784188867104|2.349974075312399| 5.46982421533876| 7.624853114890268|       null| 39.98429165757619|      null|      null|  14.001988000994|18.63757586179718|  68.8438103105705|51.482606091656265|1017.6537584219649|1015.2582035026019| 4.437189391885787|4.503166899728551|16.98750858451776|21.687234972066364|     null|2.3606816097654058|        null|\n",
            "| stddev|      null|    null| 6.403282675161533| 7.117618136628578|8.465172922382996|4.188536512082292|3.7815249951616057|       null|13.588800765487786|      null|      null|8.893337098234486|8.803345036235541|19.051292535336284|20.797771843698907| 7.105475600438319| 7.036676572368914|2.8870155257336068|2.720632530403662|6.492838324282417| 6.937593865997204|     null|  8.47796907430811|        null|\n",
            "|    min|2007-11-01|Adelaide|              -8.5|              -4.8|              0.0|              0.0|               0.0|          E|               6.0|         E|         E|              0.0|              0.0|               0.0|               0.0|             980.5|             977.1|               0.0|              0.0|             -7.2|              -5.4|       No|               0.0|          No|\n",
            "|    max|2017-06-25| Woomera|              33.9|              48.1|            371.0|            145.0|              14.5|        WSW|             135.0|       WSW|       WSW|            130.0|             87.0|             100.0|             100.0|            1041.0|            1039.6|               9.0|              9.0|             40.2|              46.7|      Yes|             371.0|         Yes|\n",
            "+-------+----------+--------+------------------+------------------+-----------------+-----------------+------------------+-----------+------------------+----------+----------+-----------------+-----------------+------------------+------------------+------------------+------------------+------------------+-----------------+-----------------+------------------+---------+------------------+------------+\n",
            "\n"
          ]
        }
      ]
    },
    {
      "cell_type": "code",
      "source": [
        "8# Display first five rows for categorical variables\n",
        "\n",
        "# Get the names of all columns in the DataFrame\n",
        "all_columns = df_weather.columns\n",
        "\n",
        "# Get the names of string columns (columns not in numeric_columns)\n",
        "categorical_variables= [col for col in all_columns if col not in continuous_variables]\n",
        "df_weather.select(categorical_variables).show(5)\n"
      ],
      "metadata": {
        "colab": {
          "base_uri": "https://localhost:8080/"
        },
        "id": "gzNHrhd48s9h",
        "outputId": "e2be7b47-db1d-4534-db7a-64c745c47934"
      },
      "execution_count": 198,
      "outputs": [
        {
          "output_type": "stream",
          "name": "stdout",
          "text": [
            "+----------+--------+-----------+----------+----------+---------+------------+\n",
            "|      Date|Location|WindGustDir|WindDir9am|WindDir3pm|RainToday|RainTomorrow|\n",
            "+----------+--------+-----------+----------+----------+---------+------------+\n",
            "|2008-12-01|  Albury|          W|         W|       WNW|       No|          No|\n",
            "|2008-12-02|  Albury|        WNW|       NNW|       WSW|       No|          No|\n",
            "|2008-12-03|  Albury|        WSW|         W|       WSW|       No|          No|\n",
            "|2008-12-04|  Albury|         NE|        SE|         E|       No|          No|\n",
            "|2008-12-05|  Albury|          W|       ENE|        NW|       No|          No|\n",
            "+----------+--------+-----------+----------+----------+---------+------------+\n",
            "only showing top 5 rows\n",
            "\n"
          ]
        }
      ]
    },
    {
      "cell_type": "code",
      "source": [
        "# 9.Decompose the date field into year, month, and day fields. Then drop the original date\n",
        "# field.\n",
        "from pyspark.sql.functions import year, month, dayofmonth\n",
        "# Decompose date field into year, month, and day fields\n",
        "df_weather = df_weather.withColumn(\"Year\", year(df_weather[\"Date\"]))\n",
        "df_weather= df_weather.withColumn(\"Month\", month(df_weather[\"Date\"]))\n",
        "df_weather= df_weather.withColumn(\"Day\", dayofmonth(df_weather[\"Date\"]))\n",
        "df_weather_dd= df_weather.drop(\"Date\")\n",
        "df_weather_dd.show()"
      ],
      "metadata": {
        "colab": {
          "base_uri": "https://localhost:8080/"
        },
        "id": "feHe2uZk9PlC",
        "outputId": "68ac99b3-2bb8-4b67-9ed0-b3c419d1c4b2"
      },
      "execution_count": 199,
      "outputs": [
        {
          "output_type": "stream",
          "name": "stdout",
          "text": [
            "+--------+-------+-------+--------+-----------+--------+-----------+-------------+----------+----------+------------+------------+-----------+-----------+-----------+-----------+--------+--------+-------+-------+---------+------------+----+-----+---+\n",
            "|Location|MinTemp|MaxTemp|Rainfall|Evaporation|Sunshine|WindGustDir|WindGustSpeed|WindDir9am|WindDir3pm|WindSpeed9am|WindSpeed3pm|Humidity9am|Humidity3pm|Pressure9am|Pressure3pm|Cloud9am|Cloud3pm|Temp9am|Temp3pm|RainToday|RainTomorrow|Year|Month|Day|\n",
            "+--------+-------+-------+--------+-----------+--------+-----------+-------------+----------+----------+------------+------------+-----------+-----------+-----------+-----------+--------+--------+-------+-------+---------+------------+----+-----+---+\n",
            "|  Albury|   13.4|   22.9|     0.6|         NA|      NA|          W|           44|         W|       WNW|          20|          24|         71|         22|     1007.7|     1007.1|       8|      NA|   16.9|   21.8|       No|          No|2008|   12|  1|\n",
            "|  Albury|    7.4|   25.1|       0|         NA|      NA|        WNW|           44|       NNW|       WSW|           4|          22|         44|         25|     1010.6|     1007.8|      NA|      NA|   17.2|   24.3|       No|          No|2008|   12|  2|\n",
            "|  Albury|   12.9|   25.7|       0|         NA|      NA|        WSW|           46|         W|       WSW|          19|          26|         38|         30|     1007.6|     1008.7|      NA|       2|     21|   23.2|       No|          No|2008|   12|  3|\n",
            "|  Albury|    9.2|     28|       0|         NA|      NA|         NE|           24|        SE|         E|          11|           9|         45|         16|     1017.6|     1012.8|      NA|      NA|   18.1|   26.5|       No|          No|2008|   12|  4|\n",
            "|  Albury|   17.5|   32.3|       1|         NA|      NA|          W|           41|       ENE|        NW|           7|          20|         82|         33|     1010.8|       1006|       7|       8|   17.8|   29.7|       No|          No|2008|   12|  5|\n",
            "|  Albury|   14.6|   29.7|     0.2|         NA|      NA|        WNW|           56|         W|         W|          19|          24|         55|         23|     1009.2|     1005.4|      NA|      NA|   20.6|   28.9|       No|          No|2008|   12|  6|\n",
            "|  Albury|   14.3|     25|       0|         NA|      NA|          W|           50|        SW|         W|          20|          24|         49|         19|     1009.6|     1008.2|       1|      NA|   18.1|   24.6|       No|          No|2008|   12|  7|\n",
            "|  Albury|    7.7|   26.7|       0|         NA|      NA|          W|           35|       SSE|         W|           6|          17|         48|         19|     1013.4|     1010.1|      NA|      NA|   16.3|   25.5|       No|          No|2008|   12|  8|\n",
            "|  Albury|    9.7|   31.9|       0|         NA|      NA|        NNW|           80|        SE|        NW|           7|          28|         42|          9|     1008.9|     1003.6|      NA|      NA|   18.3|   30.2|       No|         Yes|2008|   12|  9|\n",
            "|  Albury|   13.1|   30.1|     1.4|         NA|      NA|          W|           28|         S|       SSE|          15|          11|         58|         27|       1007|     1005.7|      NA|      NA|   20.1|   28.2|      Yes|          No|2008|   12| 10|\n",
            "|  Albury|   13.4|   30.4|       0|         NA|      NA|          N|           30|       SSE|       ESE|          17|           6|         48|         22|     1011.8|     1008.7|      NA|      NA|   20.4|   28.8|       No|         Yes|2008|   12| 11|\n",
            "|  Albury|   15.9|   21.7|     2.2|         NA|      NA|        NNE|           31|        NE|       ENE|          15|          13|         89|         91|     1010.5|     1004.2|       8|       8|   15.9|     17|      Yes|         Yes|2008|   12| 12|\n",
            "|  Albury|   15.9|   18.6|    15.6|         NA|      NA|          W|           61|       NNW|       NNW|          28|          28|         76|         93|      994.3|        993|       8|       8|   17.4|   15.8|      Yes|         Yes|2008|   12| 13|\n",
            "|  Albury|   12.6|     21|     3.6|         NA|      NA|         SW|           44|         W|       SSW|          24|          20|         65|         43|     1001.2|     1001.8|      NA|       7|   15.8|   19.8|      Yes|          No|2008|   12| 14|\n",
            "|  Albury|    9.8|   27.7|      NA|         NA|      NA|        WNW|           50|        NA|       WNW|          NA|          22|         50|         28|     1013.4|     1010.3|       0|      NA|   17.3|   26.2|       NA|          No|2008|   12| 16|\n",
            "|  Albury|   14.1|   20.9|       0|         NA|      NA|        ENE|           22|       SSW|         E|          11|           9|         69|         82|     1012.2|     1010.4|       8|       1|   17.2|   18.1|       No|         Yes|2008|   12| 17|\n",
            "|  Albury|   13.5|   22.9|    16.8|         NA|      NA|          W|           63|         N|       WNW|           6|          20|         80|         65|     1005.8|     1002.2|       8|       1|     18|   21.5|      Yes|         Yes|2008|   12| 18|\n",
            "|  Albury|   11.2|   22.5|    10.6|         NA|      NA|        SSE|           43|       WSW|        SW|          24|          17|         47|         32|     1009.4|     1009.7|      NA|       2|   15.5|     21|      Yes|          No|2008|   12| 19|\n",
            "|  Albury|    9.8|   25.6|       0|         NA|      NA|        SSE|           26|        SE|       NNW|          17|           6|         45|         26|     1019.2|     1017.1|      NA|      NA|   15.8|   23.2|       No|          No|2008|   12| 20|\n",
            "|  Albury|   11.5|   29.3|       0|         NA|      NA|          S|           24|        SE|        SE|           9|           9|         56|         28|     1019.3|     1014.8|      NA|      NA|   19.1|   27.3|       No|          No|2008|   12| 21|\n",
            "+--------+-------+-------+--------+-----------+--------+-----------+-------------+----------+----------+------------+------------+-----------+-----------+-----------+-----------+--------+--------+-------+-------+---------+------------+----+-----+---+\n",
            "only showing top 20 rows\n",
            "\n"
          ]
        }
      ]
    },
    {
      "cell_type": "code",
      "source": [
        "# 10. How many unique locations are there in the dataset\n",
        "unique_locations_count = df_weather.select(\"Location\").distinct().count()\n",
        "print(\"Number of unique locations:\", unique_locations_count)"
      ],
      "metadata": {
        "colab": {
          "base_uri": "https://localhost:8080/"
        },
        "id": "tUKJE4Xz-dI-",
        "outputId": "7b8bdf95-f04a-44eb-bd14-8a3422077ff5"
      },
      "execution_count": 200,
      "outputs": [
        {
          "output_type": "stream",
          "name": "stdout",
          "text": [
            "Number of unique locations: 49\n"
          ]
        }
      ]
    },
    {
      "cell_type": "code",
      "source": [
        "# 11. Print the number of times each unique location appears in the dataset.\n",
        "location_counts = df_weather.groupBy(\"Location\").count()\n",
        "location_counts.show()"
      ],
      "metadata": {
        "colab": {
          "base_uri": "https://localhost:8080/"
        },
        "id": "-drWYO70-lm1",
        "outputId": "cd9a0dab-320d-4e7b-d736-01ea6eab019b"
      },
      "execution_count": 201,
      "outputs": [
        {
          "output_type": "stream",
          "name": "stdout",
          "text": [
            "+-------------+-----+\n",
            "|     Location|count|\n",
            "+-------------+-----+\n",
            "|       Cairns| 2988|\n",
            "|NorfolkIsland| 2964|\n",
            "|      Bendigo| 3034|\n",
            "|      Walpole| 2819|\n",
            "|     Canberra| 3418|\n",
            "|      Woomera| 2990|\n",
            "|     Adelaide| 3090|\n",
            "|        Cobar| 2988|\n",
            "|SydneyAirport| 3005|\n",
            "| PerthAirport| 3009|\n",
            "|   Wollongong| 2983|\n",
            "|  Williamtown| 2553|\n",
            "|        Moree| 2854|\n",
            "|      Mildura| 3007|\n",
            "|     Portland| 2996|\n",
            "|       Albany| 3016|\n",
            "|   SalmonGums| 2955|\n",
            "|     Brisbane| 3161|\n",
            "|       Sydney| 3337|\n",
            "|        Perth| 3193|\n",
            "+-------------+-----+\n",
            "only showing top 20 rows\n",
            "\n"
          ]
        }
      ]
    },
    {
      "cell_type": "code",
      "source": [
        "# 12. Perform One Hot Encoding for each categorical variable\n",
        "\n",
        "from pyspark.ml.feature import StringIndexer, OneHotEncoder\n",
        "from pyspark.ml.pipeline import Pipeline\n",
        "\n",
        "# Filter out 'Date' column if not needed for encoding\n",
        "string_columns_filtered = [col_name for col_name in categorical_variables if col_name != 'Date']\n",
        "string_columns_filtered\n",
        "# Initialize lists to store stages for the pipeline\n",
        "indexers = []\n",
        "encoders = []\n",
        "\n",
        "# Perform One-Hot Encoding for each categorical variable excluding 'Date'\n",
        "for col_name in string_columns_filtered:\n",
        "    # StringIndexer for categorical variable\n",
        "    indexer = StringIndexer(inputCol=col_name, outputCol=col_name + \"_index\")\n",
        "\n",
        "    # OneHotEncoder for indexed categorical variable\n",
        "    encoder = OneHotEncoder(inputCol=col_name + \"_index\", outputCol=col_name + \"_encoded\")\n",
        "\n",
        "    # Add indexer and encoder to respective lists\n",
        "    indexers.append(indexer)\n",
        "    encoders.append(encoder)\n",
        "\n",
        "# Create a pipeline with all indexers and encoders\n",
        "pipeline = Pipeline(stages=indexers + encoders)\n",
        "\n",
        "# Fit and transform the pipeline on the DataFrame\n",
        "df_weather_encoded = pipeline.fit(df_weather_dd).transform(df_weather_dd)#dd\n",
        "\n",
        "# Display the DataFrame with One-Hot Encoded columns\n",
        "df_weather_encoded.show(5)"
      ],
      "metadata": {
        "colab": {
          "base_uri": "https://localhost:8080/"
        },
        "id": "Y8bYX7fDJLCz",
        "outputId": "6d79c0c1-2892-400e-fb93-70312d7c50d4"
      },
      "execution_count": 202,
      "outputs": [
        {
          "output_type": "stream",
          "name": "stdout",
          "text": [
            "+--------+-------+-------+--------+-----------+--------+-----------+-------------+----------+----------+------------+------------+-----------+-----------+-----------+-----------+--------+--------+-------+-------+---------+------------+----+-----+---+--------------+-----------------+----------------+----------------+---------------+------------------+----------------+-------------------+------------------+------------------+-----------------+--------------------+\n",
            "|Location|MinTemp|MaxTemp|Rainfall|Evaporation|Sunshine|WindGustDir|WindGustSpeed|WindDir9am|WindDir3pm|WindSpeed9am|WindSpeed3pm|Humidity9am|Humidity3pm|Pressure9am|Pressure3pm|Cloud9am|Cloud3pm|Temp9am|Temp3pm|RainToday|RainTomorrow|Year|Month|Day|Location_index|WindGustDir_index|WindDir9am_index|WindDir3pm_index|RainToday_index|RainTomorrow_index|Location_encoded|WindGustDir_encoded|WindDir9am_encoded|WindDir3pm_encoded|RainToday_encoded|RainTomorrow_encoded|\n",
            "+--------+-------+-------+--------+-----------+--------+-----------+-------------+----------+----------+------------+------------+-----------+-----------+-----------+-----------+--------+--------+-------+-------+---------+------------+----+-----+---+--------------+-----------------+----------------+----------------+---------------+------------------+----------------+-------------------+------------------+------------------+-----------------+--------------------+\n",
            "|  Albury|   13.4|   22.9|     0.6|         NA|      NA|          W|           44|         W|       WNW|          20|          24|         71|         22|     1007.7|     1007.1|       8|      NA|   16.9|   21.8|       No|          No|2008|   12|  1|          14.0|              0.0|             7.0|             7.0|            0.0|               0.0| (48,[14],[1.0])|     (16,[0],[1.0])|    (16,[7],[1.0])|    (16,[7],[1.0])|    (2,[0],[1.0])|       (1,[0],[1.0])|\n",
            "|  Albury|    7.4|   25.1|       0|         NA|      NA|        WNW|           44|       NNW|       WSW|           4|          22|         44|         25|     1010.6|     1007.8|      NA|      NA|   17.2|   24.3|       No|          No|2008|   12|  2|          14.0|             10.0|            10.0|             3.0|            0.0|               0.0| (48,[14],[1.0])|    (16,[10],[1.0])|   (16,[10],[1.0])|    (16,[3],[1.0])|    (2,[0],[1.0])|       (1,[0],[1.0])|\n",
            "|  Albury|   12.9|   25.7|       0|         NA|      NA|        WSW|           46|         W|       WSW|          19|          26|         38|         30|     1007.6|     1008.7|      NA|       2|     21|   23.2|       No|          No|2008|   12|  3|          14.0|              7.0|             7.0|             3.0|            0.0|               0.0| (48,[14],[1.0])|     (16,[7],[1.0])|    (16,[7],[1.0])|    (16,[3],[1.0])|    (2,[0],[1.0])|       (1,[0],[1.0])|\n",
            "|  Albury|    9.2|     28|       0|         NA|      NA|         NE|           24|        SE|         E|          11|           9|         45|         16|     1017.6|     1012.8|      NA|      NA|   18.1|   26.5|       No|          No|2008|   12|  4|          14.0|             14.0|             2.0|            10.0|            0.0|               0.0| (48,[14],[1.0])|    (16,[14],[1.0])|    (16,[2],[1.0])|   (16,[10],[1.0])|    (2,[0],[1.0])|       (1,[0],[1.0])|\n",
            "|  Albury|   17.5|   32.3|       1|         NA|      NA|          W|           41|       ENE|        NW|           7|          20|         82|         33|     1010.8|       1006|       7|       8|   17.8|   29.7|       No|          No|2008|   12|  5|          14.0|              0.0|            11.0|             8.0|            0.0|               0.0| (48,[14],[1.0])|     (16,[0],[1.0])|   (16,[11],[1.0])|    (16,[8],[1.0])|    (2,[0],[1.0])|       (1,[0],[1.0])|\n",
            "+--------+-------+-------+--------+-----------+--------+-----------+-------------+----------+----------+------------+------------+-----------+-----------+-----------+-----------+--------+--------+-------+-------+---------+------------+----+-----+---+--------------+-----------------+----------------+----------------+---------------+------------------+----------------+-------------------+------------------+------------------+-----------------+--------------------+\n",
            "only showing top 5 rows\n",
            "\n"
          ]
        }
      ]
    },
    {
      "cell_type": "code",
      "source": [
        "# 13. The RainTomorrow is the label, and all other fields are features\n",
        "\n",
        "from pyspark.sql.functions import lit\n",
        "\n",
        "# Create a dummy 'Date' column with a constant value to include in the DataFrame\n",
        "df_weather_dd= df_weather_dd.withColumn(\"Date\", lit(\"2024-03-11\"))\n",
        "# Convert string columns to numeric using StringIndexer\n",
        "indexers = [StringIndexer(inputCol=col, outputCol=col+\"_index\").fit(df_weather_dd) for col in categorical_variables]\n",
        "df_indexed = df_weather_dd\n",
        "for indexer in indexers:\n",
        "    df_indexed = indexer.transform(df_indexed)\n",
        "\n",
        "# Define the features (excluding 'RainTomorrow' and any other non-feature columns)\n",
        "feature_columns = [col + \"_index\" for col in categorical_variables if col != 'RainTomorrow']\n",
        "\n",
        "# Assemble the features into a single feature vector\n",
        "assembler = VectorAssembler(inputCols=feature_columns, outputCol=\"features\")\n",
        "\n",
        "# Transform the DataFrame to include the feature vector\n",
        "df_features = assembler.transform(df_indexed)\n",
        "\n",
        "# Select only the 'features' and 'RainTomorrow' columns for model training\n",
        "df_model = df_features.select(\"features\", \"RainTomorrow\")\n",
        "\n",
        "# Display the DataFrame with features and label\n",
        "df_model.show(20, truncate=False)"
      ],
      "metadata": {
        "colab": {
          "base_uri": "https://localhost:8080/"
        },
        "id": "a15XAGIVevzl",
        "outputId": "f7013918-365f-4460-fbc8-b56f8807d905"
      },
      "execution_count": 203,
      "outputs": [
        {
          "output_type": "stream",
          "name": "stdout",
          "text": [
            "+-----------------------------+------------+\n",
            "|features                     |RainTomorrow|\n",
            "+-----------------------------+------------+\n",
            "|[0.0,14.0,0.0,7.0,7.0,0.0]   |No          |\n",
            "|[0.0,14.0,10.0,10.0,3.0,0.0] |No          |\n",
            "|[0.0,14.0,7.0,7.0,3.0,0.0]   |No          |\n",
            "|[0.0,14.0,14.0,2.0,10.0,0.0] |No          |\n",
            "|[0.0,14.0,0.0,11.0,8.0,0.0]  |No          |\n",
            "|[0.0,14.0,10.0,7.0,1.0,0.0]  |No          |\n",
            "|[0.0,14.0,0.0,8.0,1.0,0.0]   |No          |\n",
            "|[0.0,14.0,0.0,4.0,1.0,0.0]   |No          |\n",
            "|[0.0,14.0,15.0,2.0,8.0,0.0]  |Yes         |\n",
            "|[0.0,14.0,0.0,6.0,5.0,1.0]   |No          |\n",
            "|[0.0,14.0,4.0,4.0,9.0,0.0]   |Yes         |\n",
            "|[0.0,14.0,16.0,13.0,14.0,1.0]|Yes         |\n",
            "|[0.0,14.0,0.0,10.0,13.0,1.0] |Yes         |\n",
            "|[0.0,14.0,8.0,7.0,12.0,1.0]  |No          |\n",
            "|[0.0,14.0,10.0,1.0,7.0,2.0]  |No          |\n",
            "|[0.0,14.0,12.0,14.0,10.0,0.0]|Yes         |\n",
            "|[0.0,14.0,0.0,0.0,7.0,1.0]   |Yes         |\n",
            "|[0.0,14.0,5.0,16.0,4.0,1.0]  |No          |\n",
            "|[0.0,14.0,5.0,2.0,13.0,0.0]  |No          |\n",
            "|[0.0,14.0,6.0,2.0,0.0,0.0]   |No          |\n",
            "+-----------------------------+------------+\n",
            "only showing top 20 rows\n",
            "\n"
          ]
        }
      ]
    },
    {
      "cell_type": "code",
      "source": [
        "# 14 You may use the median value (median imputation) of each field to fill null values if it is a numerical column. Use the most frequent value in case of a categorical column\n",
        "from pyspark.sql.functions import col\n",
        "from pyspark.ml.feature import Imputer\n",
        "\n",
        "# Define numerical columns and categorical variables based on your DataFrame structure\n",
        "numerical_columns = ['MinTemp', 'MaxTemp', 'Rainfall', 'Evaporation', 'Sunshine', 'WindGustSpeed', 'WindSpeed9am', 'WindSpeed3pm',\n",
        "                   'Humidity9am', 'Humidity3pm', 'Pressure9am', 'Pressure3pm', 'Cloud9am', 'Cloud3pm', 'Temp9am', 'Temp3pm']  # Define your numerical columns here\n",
        "categorical_variables = ['Location', 'WindGustDir', 'WindDir9am', 'WindDir3pm', 'RainToday', 'RainTomorrow']  # Define your categorical variables here\n",
        "\n",
        "# Convert numerical columns to numerical type\n",
        "for col_name in numerical_columns:\n",
        "    df_weather_dd = df_weather_dd.withColumn(col_name, col(col_name).cast('double'))\n",
        "\n",
        "# Impute missing values with median for numerical columns\n",
        "imputer = Imputer(strategy='median', inputCols=numerical_columns, outputCols=[col + \"_imputed\" for col in numerical_columns])\n",
        "df_imputed = imputer.fit(df_weather_dd).transform(df_weather_dd)\n",
        "\n",
        "# Define a function to impute missing values with most frequent value for categorical columns\n",
        "def fill_missing_with_mode(df_weather_dd, column):\n",
        "    mode_value = df_weather_dd.select(column).groupBy(column).count().orderBy(col(\"count\").desc()).first()[column]\n",
        "    return df_weather_dd.withColumn(column + \"_imputed\", when(col(column).isNull(), mode_value).otherwise(col(column)))\n",
        "\n",
        "# Impute missing values with mode for categorical columns\n",
        "for col_name in categorical_variables:\n",
        "    df_imputed = fill_missing_with_mode(df_imputed, col_name)\n",
        "\n",
        "# Select only the imputed columns and 'RainTomorrow' for model training\n",
        "imputed_columns = [col + \"_imputed\" for col in numerical_columns] + [col + \"_imputed\" for col in categorical_variables]\n",
        "df_final = df_imputed.select(imputed_columns + [\"RainTomorrow\"])\n",
        "\n",
        "# Display the DataFrame with imputed values\n",
        "df_final.show(20, truncate=False)\n"
      ],
      "metadata": {
        "colab": {
          "base_uri": "https://localhost:8080/"
        },
        "id": "bVWkBIjZRm-I",
        "outputId": "6e520407-4955-4966-eb4f-d0180ab139dd"
      },
      "execution_count": 204,
      "outputs": [
        {
          "output_type": "stream",
          "name": "stdout",
          "text": [
            "+---------------+---------------+----------------+-------------------+----------------+---------------------+--------------------+--------------------+-------------------+-------------------+-------------------+-------------------+----------------+----------------+---------------+---------------+----------------+-------------------+------------------+------------------+-----------------+--------------------+------------+\n",
            "|MinTemp_imputed|MaxTemp_imputed|Rainfall_imputed|Evaporation_imputed|Sunshine_imputed|WindGustSpeed_imputed|WindSpeed9am_imputed|WindSpeed3pm_imputed|Humidity9am_imputed|Humidity3pm_imputed|Pressure9am_imputed|Pressure3pm_imputed|Cloud9am_imputed|Cloud3pm_imputed|Temp9am_imputed|Temp3pm_imputed|Location_imputed|WindGustDir_imputed|WindDir9am_imputed|WindDir3pm_imputed|RainToday_imputed|RainTomorrow_imputed|RainTomorrow|\n",
            "+---------------+---------------+----------------+-------------------+----------------+---------------------+--------------------+--------------------+-------------------+-------------------+-------------------+-------------------+----------------+----------------+---------------+---------------+----------------+-------------------+------------------+------------------+-----------------+--------------------+------------+\n",
            "|13.4           |22.9           |0.6             |4.8                |8.5             |44.0                 |20.0                |24.0                |71.0               |22.0               |1007.7             |1007.1             |8.0             |5.0             |16.9           |21.8           |Albury          |W                  |W                 |WNW               |No               |No                  |No          |\n",
            "|7.4            |25.1           |0.0             |4.8                |8.5             |44.0                 |4.0                 |22.0                |44.0               |25.0               |1010.6             |1007.8             |5.0             |5.0             |17.2           |24.3           |Albury          |WNW                |NNW               |WSW               |No               |No                  |No          |\n",
            "|12.9           |25.7           |0.0             |4.8                |8.5             |46.0                 |19.0                |26.0                |38.0               |30.0               |1007.6             |1008.7             |5.0             |2.0             |21.0           |23.2           |Albury          |WSW                |W                 |WSW               |No               |No                  |No          |\n",
            "|9.2            |28.0           |0.0             |4.8                |8.5             |24.0                 |11.0                |9.0                 |45.0               |16.0               |1017.6             |1012.8             |5.0             |5.0             |18.1           |26.5           |Albury          |NE                 |SE                |E                 |No               |No                  |No          |\n",
            "|17.5           |32.3           |1.0             |4.8                |8.5             |41.0                 |7.0                 |20.0                |82.0               |33.0               |1010.8             |1006.0             |7.0             |8.0             |17.8           |29.7           |Albury          |W                  |ENE               |NW                |No               |No                  |No          |\n",
            "|14.6           |29.7           |0.2             |4.8                |8.5             |56.0                 |19.0                |24.0                |55.0               |23.0               |1009.2             |1005.4             |5.0             |5.0             |20.6           |28.9           |Albury          |WNW                |W                 |W                 |No               |No                  |No          |\n",
            "|14.3           |25.0           |0.0             |4.8                |8.5             |50.0                 |20.0                |24.0                |49.0               |19.0               |1009.6             |1008.2             |1.0             |5.0             |18.1           |24.6           |Albury          |W                  |SW                |W                 |No               |No                  |No          |\n",
            "|7.7            |26.7           |0.0             |4.8                |8.5             |35.0                 |6.0                 |17.0                |48.0               |19.0               |1013.4             |1010.1             |5.0             |5.0             |16.3           |25.5           |Albury          |W                  |SSE               |W                 |No               |No                  |No          |\n",
            "|9.7            |31.9           |0.0             |4.8                |8.5             |80.0                 |7.0                 |28.0                |42.0               |9.0                |1008.9             |1003.6             |5.0             |5.0             |18.3           |30.2           |Albury          |NNW                |SE                |NW                |No               |Yes                 |Yes         |\n",
            "|13.1           |30.1           |1.4             |4.8                |8.5             |28.0                 |15.0                |11.0                |58.0               |27.0               |1007.0             |1005.7             |5.0             |5.0             |20.1           |28.2           |Albury          |W                  |S                 |SSE               |Yes              |No                  |No          |\n",
            "|13.4           |30.4           |0.0             |4.8                |8.5             |30.0                 |17.0                |6.0                 |48.0               |22.0               |1011.8             |1008.7             |5.0             |5.0             |20.4           |28.8           |Albury          |N                  |SSE               |ESE               |No               |Yes                 |Yes         |\n",
            "|15.9           |21.7           |2.2             |4.8                |8.5             |31.0                 |15.0                |13.0                |89.0               |91.0               |1010.5             |1004.2             |8.0             |8.0             |15.9           |17.0           |Albury          |NNE                |NE                |ENE               |Yes              |Yes                 |Yes         |\n",
            "|15.9           |18.6           |15.6            |4.8                |8.5             |61.0                 |28.0                |28.0                |76.0               |93.0               |994.3              |993.0              |8.0             |8.0             |17.4           |15.8           |Albury          |W                  |NNW               |NNW               |Yes              |Yes                 |Yes         |\n",
            "|12.6           |21.0           |3.6             |4.8                |8.5             |44.0                 |24.0                |20.0                |65.0               |43.0               |1001.2             |1001.8             |5.0             |7.0             |15.8           |19.8           |Albury          |SW                 |W                 |SSW               |Yes              |No                  |No          |\n",
            "|9.8            |27.7           |0.0             |4.8                |8.5             |50.0                 |13.0                |22.0                |50.0               |28.0               |1013.4             |1010.3             |0.0             |5.0             |17.3           |26.2           |Albury          |WNW                |NA                |WNW               |NA               |No                  |No          |\n",
            "|14.1           |20.9           |0.0             |4.8                |8.5             |22.0                 |11.0                |9.0                 |69.0               |82.0               |1012.2             |1010.4             |8.0             |1.0             |17.2           |18.1           |Albury          |ENE                |SSW               |E                 |No               |Yes                 |Yes         |\n",
            "|13.5           |22.9           |16.8            |4.8                |8.5             |63.0                 |6.0                 |20.0                |80.0               |65.0               |1005.8             |1002.2             |8.0             |1.0             |18.0           |21.5           |Albury          |W                  |N                 |WNW               |Yes              |Yes                 |Yes         |\n",
            "|11.2           |22.5           |10.6            |4.8                |8.5             |43.0                 |24.0                |17.0                |47.0               |32.0               |1009.4             |1009.7             |5.0             |2.0             |15.5           |21.0           |Albury          |SSE                |WSW               |SW                |Yes              |No                  |No          |\n",
            "|9.8            |25.6           |0.0             |4.8                |8.5             |26.0                 |17.0                |6.0                 |45.0               |26.0               |1019.2             |1017.1             |5.0             |5.0             |15.8           |23.2           |Albury          |SSE                |SE                |NNW               |No               |No                  |No          |\n",
            "|11.5           |29.3           |0.0             |4.8                |8.5             |24.0                 |9.0                 |9.0                 |56.0               |28.0               |1019.3             |1014.8             |5.0             |5.0             |19.1           |27.3           |Albury          |S                  |SE                |SE                |No               |No                  |No          |\n",
            "+---------------+---------------+----------------+-------------------+----------------+---------------------+--------------------+--------------------+-------------------+-------------------+-------------------+-------------------+----------------+----------------+---------------+---------------+----------------+-------------------+------------------+------------------+-----------------+--------------------+------------+\n",
            "only showing top 20 rows\n",
            "\n"
          ]
        }
      ]
    },
    {
      "cell_type": "code",
      "source": [
        " # 15. Normalize each numerical column (bring it to a value between 0 and 1)\n",
        "from pyspark.ml.feature import MinMaxScaler\n",
        "from pyspark.ml.feature import VectorAssembler\n",
        "\n",
        "# Assemble all imputed numerical columns into a single feature vector\n",
        "assembler = VectorAssembler(inputCols=[col + \"_imputed\" for col in numerical_columns], outputCol=\"numerical_features\")\n",
        "df_assembled = assembler.transform(df_final)\n",
        "\n",
        "# Initialize MinMaxScaler to normalize each numerical column\n",
        "scaler = MinMaxScaler(inputCol=\"numerical_features\", outputCol=\"scaled_numerical_features\")\n",
        "\n",
        "# Compute summary statistics and generate the scaler model\n",
        "scaler_model = scaler.fit(df_assembled)\n",
        "\n",
        "# Normalize each numerical column to a value between 0 and 1\n",
        "df_normalized = scaler_model.transform(df_assembled)\n",
        "\n",
        "# Display the DataFrame with normalized numerical columns\n",
        "df_normalized.show(5, truncate=False)"
      ],
      "metadata": {
        "colab": {
          "base_uri": "https://localhost:8080/"
        },
        "id": "dHrQjdsuJwyR",
        "outputId": "ba47edbf-e043-4bf6-f9c5-43821b2f4eff"
      },
      "execution_count": 205,
      "outputs": [
        {
          "output_type": "stream",
          "name": "stdout",
          "text": [
            "+---------------+---------------+----------------+-------------------+----------------+---------------------+--------------------+--------------------+-------------------+-------------------+-------------------+-------------------+----------------+----------------+---------------+---------------+----------------+-------------------+------------------+------------------+-----------------+--------------------+------------+--------------------------------------------------------------------------------+-------------------------------------------------------------------------------------------------------------------------------------------------------------------------------------------------------------------------------------------------------------------------------------------------------+\n",
            "|MinTemp_imputed|MaxTemp_imputed|Rainfall_imputed|Evaporation_imputed|Sunshine_imputed|WindGustSpeed_imputed|WindSpeed9am_imputed|WindSpeed3pm_imputed|Humidity9am_imputed|Humidity3pm_imputed|Pressure9am_imputed|Pressure3pm_imputed|Cloud9am_imputed|Cloud3pm_imputed|Temp9am_imputed|Temp3pm_imputed|Location_imputed|WindGustDir_imputed|WindDir9am_imputed|WindDir3pm_imputed|RainToday_imputed|RainTomorrow_imputed|RainTomorrow|numerical_features                                                              |scaled_numerical_features                                                                                                                                                                                                                                                                              |\n",
            "+---------------+---------------+----------------+-------------------+----------------+---------------------+--------------------+--------------------+-------------------+-------------------+-------------------+-------------------+----------------+----------------+---------------+---------------+----------------+-------------------+------------------+------------------+-----------------+--------------------+------------+--------------------------------------------------------------------------------+-------------------------------------------------------------------------------------------------------------------------------------------------------------------------------------------------------------------------------------------------------------------------------------------------------+\n",
            "|13.4           |22.9           |0.6             |4.8                |8.5             |44.0                 |20.0                |24.0                |71.0               |22.0               |1007.7             |1007.1             |8.0             |5.0             |16.9           |21.8           |Albury          |W                  |W                 |WNW               |No               |No                  |No          |[13.4,22.9,0.6,4.8,8.5,44.0,20.0,24.0,71.0,22.0,1007.7,1007.1,8.0,5.0,16.9,21.8]|[0.5165094339622641,0.5236294896030246,0.0016172506738544475,0.03310344827586207,0.5862068965517241,0.2945736434108527,0.15384615384615385,0.27586206896551724,0.71,0.22,0.4495867768595049,0.48000000000000087,0.8888888888888888,0.5555555555555556,0.5084388185654007,0.5220729366602688]           |\n",
            "|7.4            |25.1           |0.0             |4.8                |8.5             |44.0                 |4.0                 |22.0                |44.0               |25.0               |1010.6             |1007.8             |5.0             |5.0             |17.2           |24.3           |Albury          |WNW                |NNW               |WSW               |No               |No                  |No          |[7.4,25.1,0.0,4.8,8.5,44.0,4.0,22.0,44.0,25.0,1010.6,1007.8,5.0,5.0,17.2,24.3]  |[0.37500000000000006,0.5652173913043479,0.0,0.03310344827586207,0.5862068965517241,0.2945736434108527,0.03076923076923077,0.25287356321839083,0.44,0.25,0.4975206611570252,0.49119999999999975,0.5555555555555556,0.5555555555555556,0.5147679324894514,0.5700575815738964]                            |\n",
            "|12.9           |25.7           |0.0             |4.8                |8.5             |46.0                 |19.0                |26.0                |38.0               |30.0               |1007.6             |1008.7             |5.0             |2.0             |21.0           |23.2           |Albury          |WSW                |W                 |WSW               |No               |No                  |No          |[12.9,25.7,0.0,4.8,8.5,46.0,19.0,26.0,38.0,30.0,1007.6,1008.7,5.0,2.0,21.0,23.2]|[0.5047169811320755,0.5765595463137996,0.0,0.03310344827586207,0.5862068965517241,0.31007751937984496,0.14615384615384616,0.29885057471264365,0.38,0.3,0.44793388429752107,0.5056000000000013,0.5555555555555556,0.2222222222222222,0.5949367088607594,0.5489443378119002]                             |\n",
            "|9.2            |28.0           |0.0             |4.8                |8.5             |24.0                 |11.0                |9.0                 |45.0               |16.0               |1017.6             |1012.8             |5.0             |5.0             |18.1           |26.5           |Albury          |NE                 |SE                |E                 |No               |No                  |No          |[9.2,28.0,0.0,4.8,8.5,24.0,11.0,9.0,45.0,16.0,1017.6,1012.8,5.0,5.0,18.1,26.5]  |[0.41745283018867924,0.6200378071833648,0.0,0.03310344827586207,0.5862068965517241,0.13953488372093023,0.08461538461538462,0.10344827586206896,0.45,0.16,0.6132231404958681,0.5711999999999999,0.5555555555555556,0.5555555555555556,0.5337552742616034,0.6122840690978886]                            |\n",
            "|17.5           |32.3           |1.0             |4.8                |8.5             |41.0                 |7.0                 |20.0                |82.0               |33.0               |1010.8             |1006.0             |7.0             |8.0             |17.8           |29.7           |Albury          |W                  |ENE               |NW                |No               |No                  |No          |[17.5,32.3,1.0,4.8,8.5,41.0,7.0,20.0,82.0,33.0,1010.8,1006.0,7.0,8.0,17.8,29.7] |[0.6132075471698114,0.7013232514177693,0.0026954177897574125,0.03310344827586207,0.5862068965517241,0.2713178294573643,0.05384615384615385,0.22988505747126436,0.8200000000000001,0.33,0.500826446280991,0.4624000000000004,0.7777777777777777,0.8888888888888888,0.5274261603375527,0.673704414587332]|\n",
            "+---------------+---------------+----------------+-------------------+----------------+---------------------+--------------------+--------------------+-------------------+-------------------+-------------------+-------------------+----------------+----------------+---------------+---------------+----------------+-------------------+------------------+------------------+-----------------+--------------------+------------+--------------------------------------------------------------------------------+-------------------------------------------------------------------------------------------------------------------------------------------------------------------------------------------------------------------------------------------------------------------------------------------------------+\n",
            "only showing top 5 rows\n",
            "\n"
          ]
        }
      ]
    },
    {
      "cell_type": "code",
      "source": [
        "# 16. Train your Logistic Regression model on the training dataset (70% 30% split)\n",
        "# Split the dataset into training and test sets\n",
        "from pyspark.ml.evaluation import BinaryClassificationEvaluator\n",
        "\n",
        "# Split the data into training and test sets (70% - 30%)\n",
        "train_data, test_data = df_normalized.randomSplit([0.7, 0.3], seed=42)\n",
        "\n",
        "# Convert the target variable 'RainTomorrow' to a numeric format\n",
        "indexer = StringIndexer(inputCol='RainTomorrow', outputCol='label')\n",
        "train_data_indexed = indexer.fit(train_data).transform(train_data)\n",
        "\n",
        "# Initialize Logistic Regression model\n",
        "lr = LogisticRegression(featuresCol='scaled_numerical_features', labelCol='label')\n",
        "\n",
        "# Create a Pipeline with the Logistic Regression model\n",
        "pipeline = Pipeline(stages=[lr])\n",
        "\n",
        "# Train the Logistic Regression model on the training dataset\n",
        "model = pipeline.fit(train_data_indexed)\n",
        "\n",
        "# Make predictions on the test set\n",
        "test_data_indexed = indexer.fit(test_data).transform(test_data)\n",
        "predictions = model.transform(test_data_indexed)\n",
        "\n",
        "# Evaluate the model using BinaryClassificationEvaluator\n",
        "evaluator = BinaryClassificationEvaluator(labelCol='label')\n",
        "auc = evaluator.evaluate(predictions)\n",
        "\n",
        "# Display the Area Under ROC for the model\n",
        "print(\"Area Under ROC: \", auc)"
      ],
      "metadata": {
        "id": "4rU6dYs9E-mw",
        "colab": {
          "base_uri": "https://localhost:8080/"
        },
        "outputId": "67fd1662-0825-4fd0-82fd-ee596ea1cad8"
      },
      "execution_count": 206,
      "outputs": [
        {
          "output_type": "stream",
          "name": "stdout",
          "text": [
            "Area Under ROC:  0.8624691198798907\n"
          ]
        }
      ]
    },
    {
      "cell_type": "code",
      "source": [
        "# 17. Predict RainTomorrow for test set\n",
        "# Make predictions on the test set using the trained model\n",
        "predictions_test = model.transform(test_data_indexed)\n",
        "\n",
        "# Display predictions for RainTomorrow in the test set\n",
        "predictions_test.select(\"RainTomorrow\", \"prediction\").show(10)"
      ],
      "metadata": {
        "id": "zjkdPyMkFGf9",
        "colab": {
          "base_uri": "https://localhost:8080/"
        },
        "outputId": "9af144dd-9e91-4f16-e3b6-ef4274584a95"
      },
      "execution_count": 207,
      "outputs": [
        {
          "output_type": "stream",
          "name": "stdout",
          "text": [
            "+------------+----------+\n",
            "|RainTomorrow|prediction|\n",
            "+------------+----------+\n",
            "|          No|       0.0|\n",
            "|          No|       1.0|\n",
            "|          No|       1.0|\n",
            "|          No|       0.0|\n",
            "|         Yes|       1.0|\n",
            "|          No|       1.0|\n",
            "|          No|       0.0|\n",
            "|          No|       0.0|\n",
            "|          No|       0.0|\n",
            "|          No|       0.0|\n",
            "+------------+----------+\n",
            "only showing top 10 rows\n",
            "\n"
          ]
        }
      ]
    },
    {
      "cell_type": "code",
      "source": [
        "# 18 Describe the performance of your model using the confusion matrix and print TP, TN,FP, and FN. In addition, provide the accuracy and F1 score of your model\n",
        "from pyspark.mllib.evaluation import MulticlassMetrics\n",
        "\n",
        "# Convert predictions to RDD\n",
        "prediction_and_label = predictions_test.select(\"prediction\", \"label\").rdd\n",
        "\n",
        "# Instantiate metrics object\n",
        "metrics = MulticlassMetrics(prediction_and_label)\n",
        "\n",
        "# Calculate confusion matrix\n",
        "confusion_matrix = metrics.confusionMatrix().toArray()\n",
        "\n",
        "# Extract TP, TN, FP, FN from confusion matrix\n",
        "TP = confusion_matrix[1, 1]\n",
        "TN = confusion_matrix[0, 0]\n",
        "FP = confusion_matrix[0, 1]\n",
        "FN = confusion_matrix[1, 0]\n",
        "\n",
        "# Calculate accuracy\n",
        "accuracy = metrics.accuracy\n",
        "\n",
        "# Calculate F1 score\n",
        "f1_score = metrics.fMeasure(1.0)\n",
        "\n",
        "# Display TP, TN, FP, FN, accuracy, and F1 score\n",
        "print(\"True Positives (TP):\", TP)\n",
        "print(\"True Negatives (TN):\", TN)\n",
        "print(\"False Positives (FP):\", FP)\n",
        "print(\"False Negatives (FN):\", FN)\n",
        "print(\"Accuracy:\", accuracy)\n",
        "print(\"F1 Score:\", f1_score)"
      ],
      "metadata": {
        "colab": {
          "base_uri": "https://localhost:8080/"
        },
        "id": "FRgAVN5RLi_m",
        "outputId": "cdb6f45a-f822-4010-d23e-903d95d05414"
      },
      "execution_count": 209,
      "outputs": [
        {
          "output_type": "stream",
          "name": "stdout",
          "text": [
            "True Positives (TP): 4585.0\n",
            "True Negatives (TN): 31291.0\n",
            "False Positives (FP): 1806.0\n",
            "False Negatives (FN): 4923.0\n",
            "Accuracy: 0.8420607909869734\n",
            "F1 Score: 0.576765834329203\n"
          ]
        }
      ]
    },
    {
      "cell_type": "code",
      "source": [
        "# Stop SparkSession\n",
        "spark.stop()\n"
      ],
      "metadata": {
        "id": "pcMh6wur1M6m"
      },
      "execution_count": 177,
      "outputs": []
    }
  ]
}